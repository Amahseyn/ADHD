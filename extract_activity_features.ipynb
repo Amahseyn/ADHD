{
 "cells": [
  {
   "cell_type": "code",
   "execution_count": 1,
   "metadata": {},
   "outputs": [
    {
     "name": "stdout",
     "output_type": "stream",
     "text": [
      "Reading C:/Users/mhhas/Downloads/adhd-diagnosis-data/activity_data\\patient_activity_01.csv\n"
     ]
    },
    {
     "name": "stderr",
     "output_type": "stream",
     "text": [
      "Feature Extraction: 100%|██████████| 1/1 [02:06<00:00, 126.77s/it]\n"
     ]
    },
    {
     "name": "stdout",
     "output_type": "stream",
     "text": [
      "Reading C:/Users/mhhas/Downloads/adhd-diagnosis-data/activity_data\\patient_activity_02.csv\n"
     ]
    },
    {
     "name": "stderr",
     "output_type": "stream",
     "text": [
      "Feature Extraction: 100%|██████████| 1/1 [02:22<00:00, 142.84s/it]\n"
     ]
    },
    {
     "name": "stdout",
     "output_type": "stream",
     "text": [
      "Reading C:/Users/mhhas/Downloads/adhd-diagnosis-data/activity_data\\patient_activity_03.csv\n"
     ]
    },
    {
     "name": "stderr",
     "output_type": "stream",
     "text": [
      "Feature Extraction: 100%|██████████| 1/1 [02:59<00:00, 179.67s/it]\n"
     ]
    },
    {
     "name": "stdout",
     "output_type": "stream",
     "text": [
      "Reading C:/Users/mhhas/Downloads/adhd-diagnosis-data/activity_data\\patient_activity_05.csv\n"
     ]
    },
    {
     "name": "stderr",
     "output_type": "stream",
     "text": [
      "Feature Extraction: 100%|██████████| 1/1 [01:15<00:00, 75.78s/it]\n"
     ]
    },
    {
     "name": "stdout",
     "output_type": "stream",
     "text": [
      "Reading C:/Users/mhhas/Downloads/adhd-diagnosis-data/activity_data\\patient_activity_07.csv\n"
     ]
    },
    {
     "name": "stderr",
     "output_type": "stream",
     "text": [
      "Feature Extraction: 100%|██████████| 1/1 [03:09<00:00, 189.23s/it]\n"
     ]
    },
    {
     "name": "stdout",
     "output_type": "stream",
     "text": [
      "Reading C:/Users/mhhas/Downloads/adhd-diagnosis-data/activity_data\\patient_activity_08.csv\n"
     ]
    },
    {
     "name": "stderr",
     "output_type": "stream",
     "text": [
      "Feature Extraction: 100%|██████████| 1/1 [00:35<00:00, 35.17s/it]\n"
     ]
    },
    {
     "name": "stdout",
     "output_type": "stream",
     "text": [
      "Reading C:/Users/mhhas/Downloads/adhd-diagnosis-data/activity_data\\patient_activity_09.csv\n"
     ]
    },
    {
     "name": "stderr",
     "output_type": "stream",
     "text": [
      "Feature Extraction: 100%|██████████| 1/1 [14:42<00:00, 882.20s/it]\n"
     ]
    },
    {
     "name": "stdout",
     "output_type": "stream",
     "text": [
      "Reading C:/Users/mhhas/Downloads/adhd-diagnosis-data/activity_data\\patient_activity_10.csv\n"
     ]
    },
    {
     "name": "stderr",
     "output_type": "stream",
     "text": [
      "Feature Extraction: 100%|██████████| 1/1 [05:01<00:00, 301.53s/it]\n"
     ]
    },
    {
     "name": "stdout",
     "output_type": "stream",
     "text": [
      "Reading C:/Users/mhhas/Downloads/adhd-diagnosis-data/activity_data\\patient_activity_101.csv\n"
     ]
    },
    {
     "name": "stderr",
     "output_type": "stream",
     "text": [
      "Feature Extraction: 100%|██████████| 1/1 [01:21<00:00, 81.16s/it]\n"
     ]
    },
    {
     "name": "stdout",
     "output_type": "stream",
     "text": [
      "Reading C:/Users/mhhas/Downloads/adhd-diagnosis-data/activity_data\\patient_activity_104.csv\n"
     ]
    },
    {
     "name": "stderr",
     "output_type": "stream",
     "text": [
      "Feature Extraction: 100%|██████████| 1/1 [01:49<00:00, 109.26s/it]\n"
     ]
    },
    {
     "name": "stdout",
     "output_type": "stream",
     "text": [
      "Reading C:/Users/mhhas/Downloads/adhd-diagnosis-data/activity_data\\patient_activity_105.csv\n"
     ]
    },
    {
     "name": "stderr",
     "output_type": "stream",
     "text": [
      "Feature Extraction: 100%|██████████| 1/1 [01:18<00:00, 78.67s/it]\n"
     ]
    },
    {
     "name": "stdout",
     "output_type": "stream",
     "text": [
      "Reading C:/Users/mhhas/Downloads/adhd-diagnosis-data/activity_data\\patient_activity_108.csv\n"
     ]
    },
    {
     "name": "stderr",
     "output_type": "stream",
     "text": [
      "Feature Extraction: 100%|██████████| 1/1 [01:23<00:00, 83.20s/it]\n"
     ]
    },
    {
     "name": "stdout",
     "output_type": "stream",
     "text": [
      "Reading C:/Users/mhhas/Downloads/adhd-diagnosis-data/activity_data\\patient_activity_11.csv\n"
     ]
    },
    {
     "name": "stderr",
     "output_type": "stream",
     "text": [
      "Feature Extraction: 100%|██████████| 1/1 [01:49<00:00, 109.32s/it]\n"
     ]
    },
    {
     "name": "stdout",
     "output_type": "stream",
     "text": [
      "Reading C:/Users/mhhas/Downloads/adhd-diagnosis-data/activity_data\\patient_activity_13.csv\n"
     ]
    },
    {
     "name": "stderr",
     "output_type": "stream",
     "text": [
      "Feature Extraction: 100%|██████████| 1/1 [01:50<00:00, 110.51s/it]\n"
     ]
    },
    {
     "name": "stdout",
     "output_type": "stream",
     "text": [
      "Reading C:/Users/mhhas/Downloads/adhd-diagnosis-data/activity_data\\patient_activity_14.csv\n"
     ]
    },
    {
     "name": "stderr",
     "output_type": "stream",
     "text": [
      "Feature Extraction: 100%|██████████| 1/1 [01:35<00:00, 95.03s/it]\n"
     ]
    },
    {
     "name": "stdout",
     "output_type": "stream",
     "text": [
      "Reading C:/Users/mhhas/Downloads/adhd-diagnosis-data/activity_data\\patient_activity_15.csv\n"
     ]
    },
    {
     "name": "stderr",
     "output_type": "stream",
     "text": [
      "Feature Extraction: 100%|██████████| 1/1 [02:37<00:00, 157.45s/it]\n"
     ]
    },
    {
     "name": "stdout",
     "output_type": "stream",
     "text": [
      "Reading C:/Users/mhhas/Downloads/adhd-diagnosis-data/activity_data\\patient_activity_18.csv\n"
     ]
    },
    {
     "name": "stderr",
     "output_type": "stream",
     "text": [
      "Feature Extraction: 100%|██████████| 1/1 [05:24<00:00, 324.18s/it]\n"
     ]
    },
    {
     "name": "stdout",
     "output_type": "stream",
     "text": [
      "Reading C:/Users/mhhas/Downloads/adhd-diagnosis-data/activity_data\\patient_activity_19.csv\n"
     ]
    },
    {
     "name": "stderr",
     "output_type": "stream",
     "text": [
      "Feature Extraction: 100%|██████████| 1/1 [02:18<00:00, 138.97s/it]\n"
     ]
    },
    {
     "name": "stdout",
     "output_type": "stream",
     "text": [
      "Reading C:/Users/mhhas/Downloads/adhd-diagnosis-data/activity_data\\patient_activity_20.csv\n"
     ]
    },
    {
     "name": "stderr",
     "output_type": "stream",
     "text": [
      "Feature Extraction:   0%|          | 0/1 [00:00<?, ?it/s]"
     ]
    }
   ],
   "source": [
    "import os\n",
    "import csv\n",
    "import glob\n",
    "import pandas as pd\n",
    "from datetime import datetime\n",
    "from tsfresh import extract_features\n",
    "\n",
    "def read_activity_file(filepath, patient_id):\n",
    "    data = []\n",
    "    with open(filepath) as f:\n",
    "        csv_reader = csv.reader(f, delimiter=\";\")\n",
    "        next(csv_reader)\n",
    "        for line in csv_reader:\n",
    "            data.append([datetime.strptime(line[0], \"%m-%d-%Y %H:%M\").timestamp(), int(line[1].split(\" \")[0])])\n",
    "    data = pd.DataFrame(data, columns=[\"TIME\", \"ACC\"])\n",
    "    data[\"ID\"] = patient_id\n",
    "    return data\n",
    "\n",
    "input_dir = \"C:/Users/mhhas/Downloads/adhd-diagnosis-data/activity_data\"\n",
    "output_dir = os.path.join(\"preprocessed_data\")\n",
    "\n",
    "if not os.path.exists(output_dir):\n",
    "    os.makedirs(output_dir)\n",
    "\n",
    "all_features = pd.DataFrame()  \n",
    "\n",
    "for filepath in glob.glob(os.path.join(input_dir, \"*.csv\")):\n",
    "    print(\"Reading %s\" % filepath)\n",
    "    patient_id = os.path.splitext(os.path.basename(filepath))[0]\n",
    "\n",
    "    data = read_activity_file(filepath, patient_id)\n",
    "    features = extract_features(data, column_id=\"ID\", column_value=\"ACC\", column_sort=\"TIME\", n_jobs=0, show_warnings=False)\n",
    "\n",
    "    all_features = pd.concat([all_features, features]) \n",
    "\n",
    "all_features.to_csv(os.path.join(output_dir, \"all_features.csv\"), index=False, sep=\";\")\n"
   ]
  }
 ],
 "metadata": {
  "kernelspec": {
   "display_name": "tensorflow",
   "language": "python",
   "name": "python3"
  },
  "language_info": {
   "codemirror_mode": {
    "name": "ipython",
    "version": 3
   },
   "file_extension": ".py",
   "mimetype": "text/x-python",
   "name": "python",
   "nbconvert_exporter": "python",
   "pygments_lexer": "ipython3",
   "version": "3.8.18"
  }
 },
 "nbformat": 4,
 "nbformat_minor": 2
}
