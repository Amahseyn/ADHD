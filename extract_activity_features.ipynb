{
 "cells": [
  {
   "cell_type": "code",
   "execution_count": null,
   "metadata": {},
   "outputs": [],
   "source": [
    "import os\n",
    "import csv\n",
    "import glob\n",
    "import pandas as pd\n",
    "from datetime import datetime\n",
    "from tsfresh import extract_features\n",
    "\n",
    "def read_activity_file(filepath, patient_id):\n",
    "    data = []\n",
    "    with open(filepath) as f:\n",
    "        csv_reader = csv.reader(f, delimiter=\";\")\n",
    "        next(csv_reader)\n",
    "        for line in csv_reader:\n",
    "            data.append([datetime.strptime(line[0], \"%m-%d-%Y %H:%M\").timestamp(), int(line[1].split(\" \")[0])])\n",
    "    data = pd.DataFrame(data, columns=[\"TIME\", \"ACC\"])\n",
    "    data[\"ID\"] = patient_id\n",
    "    return data\n",
    "\n",
    "input_dir = \"/content/activity_data\"\n",
    "output_dir = os.path.join(\"/content/preprocessed_data\")\n",
    "\n",
    "if not os.path.exists(output_dir):\n",
    "    os.makedirs(output_dir)\n",
    "\n",
    "all_features = pd.DataFrame()  \n",
    "\n",
    "for filepath in glob.glob(os.path.join(input_dir, \"*.csv\")):\n",
    "    print(\"Reading %s\" % filepath)\n",
    "    patient_id = os.path.splitext(os.path.basename(filepath))[0]\n",
    "    patient_id = patient_id.split(\"_\")[-1]\n",
    "\n",
    "    #print(patient_id)\n",
    "    data = read_activity_file(filepath, patient_id)\n",
    "    features = extract_features(data, column_id=\"ID\", column_value=\"ACC\", column_sort=\"TIME\", n_jobs=0, show_warnings=False)\n",
    "\n",
    "    if \"ID\" not in features.columns:\n",
    "        features[\"ID\"] = patient_id\n",
    "\n",
    "    all_features = pd.concat([all_features, features])\n",
    "\n",
    "all_features.set_index(\"ID\", inplace=True)\n",
    "\n",
    "\n",
    "all_features.to_csv(os.path.join(output_dir, \"activity_features.csv\"), sep=\";\")"
   ]
  }
 ],
 "metadata": {
  "kernelspec": {
   "display_name": "tensorflow",
   "language": "python",
   "name": "python3"
  },
  "language_info": {
   "codemirror_mode": {
    "name": "ipython",
    "version": 3
   },
   "file_extension": ".py",
   "mimetype": "text/x-python",
   "name": "python",
   "nbconvert_exporter": "python",
   "pygments_lexer": "ipython3",
   "version": "3.8.18"
  }
 },
 "nbformat": 4,
 "nbformat_minor": 2
}
