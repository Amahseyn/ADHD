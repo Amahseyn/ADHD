{
 "cells": [
  {
   "cell_type": "code",
   "execution_count": null,
   "metadata": {},
   "outputs": [],
   "source": [
    "from sklearn.linear_model import LogisticRegression\n",
    "from sklearn.ensemble import RandomForestClassifier\n",
    "\n",
    "import numpy as np\n",
    "import pandas as pd\n",
    "\n",
    "import re\n",
    "import argparse\n",
    "\n",
    "from sklearn.dummy import DummyClassifier\n",
    "from sklearn.model_selection import train_test_split\n",
    "from sklearn.preprocessing import StandardScaler\n",
    "from tsfresh.feature_selection.selection import select_features"
   ]
  },
  {
   "cell_type": "code",
   "execution_count": null,
   "metadata": {},
   "outputs": [],
   "source": [
    "dataX = pd.read_csv(\"features.csv\", sep=\";\").sort_values(by=\"ID\")\n",
    "dataY = pd.read_csv(\"patient_info.csv\", sep=\";\").sort_values(by=\"ID\")\n",
    "\n",
    "dataX = dataX.fillna(0)\n",
    "\n",
    "# Remove JSON symbols from headers\n",
    "dataX = dataX.rename(columns = lambda x:re.sub('\"', '', x))\n",
    "dataX = dataX.rename(columns = lambda x:re.sub(',', '', x))\n",
    "dataY = dataY.rename(columns = lambda x:re.sub('\"', '', x))\n",
    "dataY = dataY.rename(columns = lambda x:re.sub(',', '', x))\n",
    "\n",
    "# Match X and Y data\n",
    "dataY = dataY[dataY[\"ID\"].isin(dataX[\"ID\"])]\n",
    "dataX = dataX[dataX[\"ID\"].isin(dataY[\"ID\"])]\n",
    "\n",
    "dataY = dataY.set_index(\"ID\")\n",
    "dataX = dataX.set_index(\"ID\")\n",
    "\n",
    "dataY = dataY[\"ADHD\"].copy()\n",
    "\n",
    "# Find relevant features using tsfresh\n",
    "dataX = select_features(dataX, dataY)\n",
    "\n",
    "scaler = StandardScaler(copy=True)\n",
    "dataX.loc[:, dataX.columns] = scaler.fit_transform(dataX[dataX.columns])\n",
    "\n",
    "X_TRAIN, X_TEST, Y_TRAIN, Y_TEST = train_test_split(\n",
    "    dataX,\n",
    "    dataY,\n",
    "    test_size=.25,\n",
    "    random_state=0,\n",
    "    stratify=dataY)"
   ]
  }
 ],
 "metadata": {
  "kernelspec": {
   "display_name": "adhd",
   "language": "python",
   "name": "python3"
  },
  "language_info": {
   "name": "python",
   "version": "3.8.19"
  }
 },
 "nbformat": 4,
 "nbformat_minor": 2
}
