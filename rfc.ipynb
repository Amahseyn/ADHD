{
 "cells": [
  {
   "cell_type": "code",
   "execution_count": 1,
   "metadata": {},
   "outputs": [],
   "source": [
    "from sklearn.ensemble import RandomForestClassifier, VotingClassifier\n",
    "from sklearn.linear_model import LogisticRegression\n",
    "from sklearn.svm import SVC\n",
    "from sklearn.model_selection import train_test_split, GridSearchCV, cross_val_score\n",
    "from sklearn.preprocessing import StandardScaler\n",
    "from sklearn.metrics import accuracy_score, classification_report, confusion_matrix\n",
    "from sklearn.feature_selection import RFE\n",
    "from imblearn.over_sampling import SMOTE\n",
    "\n",
    "import numpy as np\n",
    "import pandas as pd\n",
    "\n",
    "dataX = pd.read_csv(\"features.csv\", sep=\";\").sort_values(by=\"ID\")\n",
    "dataY = pd.read_csv(\"patient_info.csv\", sep=\";\").sort_values(by=\"ID\")\n",
    "\n",
    "# Fill missing values\n",
    "\n"
   ]
  },
  {
   "cell_type": "code",
   "execution_count": 7,
   "metadata": {},
   "outputs": [],
   "source": [
    "dataX = dataX.fillna(0)\n",
    "\n",
    "# Match X and Y data\n",
    "dataY = dataY[dataY[\"ID\"].isin(dataX[\"ID\"])]\n",
    "dataX = dataX[dataX[\"ID\"].isin(dataY[\"ID\"])]\n",
    "\n",
    "dataY = dataY.set_index(\"ID\")\n",
    "dataX = dataX.set_index(\"ID\")\n",
    "\n",
    "dataY = dataY[\"ADHD\"].copy()\n"
   ]
  },
  {
   "cell_type": "code",
   "execution_count": 9,
   "metadata": {},
   "outputs": [
    {
     "data": {
      "text/plain": [
       "ID\n",
       "1      1\n",
       "2      1\n",
       "3      1\n",
       "5      1\n",
       "7      0\n",
       "      ..\n",
       "98     1\n",
       "101    0\n",
       "104    0\n",
       "105    0\n",
       "108    1\n",
       "Name: ADHD, Length: 85, dtype: int64"
      ]
     },
     "execution_count": 9,
     "metadata": {},
     "output_type": "execute_result"
    }
   ],
   "source": [
    "dataY"
   ]
  },
  {
   "cell_type": "code",
   "execution_count": null,
   "metadata": {},
   "outputs": [],
   "source": [
    "\n",
    "# Scale the features\n",
    "scaler = StandardScaler()\n",
    "dataX = scaler.fit_transform(dataX)\n",
    "\n",
    "# Feature Selection with RFE\n",
    "rf_selector = RandomForestClassifier(n_estimators=100, random_state=0)\n",
    "selector = RFE(rf_selector, n_features_to_select=10, step=1)\n",
    "dataX = selector.fit_transform(dataX, dataY)\n",
    "\n",
    "# Split the data\n",
    "x_train, x_test, y_train, y_test = train_test_split(\n",
    "    dataX,\n",
    "    dataY,\n",
    "    test_size=0.25,\n",
    "    random_state=0,\n",
    "    stratify=dataY)\n",
    "\n",
    "# Handle class imbalance using SMOTE\n",
    "sm = SMOTE(random_state=0)\n",
    "x_train, y_train = sm.fit_resample(x_train, y_train)\n",
    "\n",
    "# Define classifiers for ensemble\n",
    "rf_classifier = RandomForestClassifier(n_estimators=100, random_state=0)\n",
    "log_classifier = LogisticRegression(random_state=0)\n",
    "svc_classifier = SVC(probability=True, random_state=0)\n",
    "\n",
    "# Create a voting classifier\n",
    "voting_classifier = VotingClassifier(estimators=[\n",
    "    ('rf', rf_classifier),\n",
    "    ('log', log_classifier),\n",
    "    ('svc', svc_classifier)\n",
    "], voting='soft')\n",
    "\n",
    "# Define a grid of hyperparameters for grid search\n",
    "param_grid = {\n",
    "    'rf__n_estimators': [50, 100, 200],\n",
    "    'rf__max_depth': [None, 10, 20, 30],\n",
    "    'rf__min_samples_split': [2, 5, 10],\n",
    "    'rf__min_samples_leaf': [1, 2, 4],\n",
    "    'log__C': [0.1, 1, 10],\n",
    "    'svc__C': [0.1, 1, 10],\n",
    "    'svc__kernel': ['linear', 'rbf']\n",
    "}\n",
    "\n",
    "# Perform grid search with cross-validation\n",
    "grid_search = GridSearchCV(estimator=voting_classifier, param_grid=param_grid, cv=5, n_jobs=-1, verbose=2)\n",
    "grid_search.fit(x_train, y_train)\n",
    "\n",
    "# Get the best parameters from grid search\n",
    "best_params = grid_search.best_params_\n",
    "\n",
    "# Train the VotingClassifier with the best parameters\n",
    "best_voting_classifier = VotingClassifier(\n",
    "    estimators=[\n",
    "        ('rf', RandomForestClassifier(**{k.split('__')[1]: v for k, v in best_params.items() if k.startswith('rf')}, random_state=0)),\n",
    "        ('log', LogisticRegression(**{k.split('__')[1]: v for k, v in best_params.items() if k.startswith('log')}, random_state=0)),\n",
    "        ('svc', SVC(**{k.split('__')[1]: v for k, v in best_params.items() if k.startswith('svc')}, probability=True, random_state=0))\n",
    "    ],\n",
    "    voting='soft'\n",
    ")\n",
    "best_voting_classifier.fit(x_train, y_train)\n",
    "\n",
    "# Predict the test set results\n",
    "y_pred = best_voting_classifier.predict(x_test)\n",
    "\n",
    "# Evaluate the model\n",
    "accuracy = accuracy_score(y_test, y_pred)\n",
    "conf_matrix = confusion_matrix(y_test, y_pred)\n",
    "class_report = classification_report(y_test, y_pred)\n",
    "\n",
    "print(\"Confusion Matrix:\")\n",
    "print(conf_matrix)\n",
    "print(\"Classification Report:\")\n",
    "print(class_report)\n",
    "print(f\"Accuracy: {accuracy}\")\n",
    "\n",
    "# Perform cross-validation to check for overfitting\n",
    "cross_val_scores = cross_val_score(best_voting_classifier, dataX, dataY, cv=5)\n",
    "print(f\"Cross-Validation Scores: {cross_val_scores}\")\n",
    "print(f\"Mean Cross-Validation Score: {cross_val_scores.mean()}\")"
   ]
  }
 ],
 "metadata": {
  "kernelspec": {
   "display_name": "adhd",
   "language": "python",
   "name": "python3"
  },
  "language_info": {
   "codemirror_mode": {
    "name": "ipython",
    "version": 3
   },
   "file_extension": ".py",
   "mimetype": "text/x-python",
   "name": "python",
   "nbconvert_exporter": "python",
   "pygments_lexer": "ipython3",
   "version": "3.8.19"
  }
 },
 "nbformat": 4,
 "nbformat_minor": 2
}
